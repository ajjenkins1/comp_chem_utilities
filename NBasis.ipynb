{
 "cells": [
  {
   "cell_type": "markdown",
   "id": "187fe055-57c7-4ba3-b5a3-47400f9d9669",
   "metadata": {},
   "source": [
    "# Compute Number of Basis Functions and Composition of Molecule in XYZ file"
   ]
  },
  {
   "cell_type": "markdown",
   "id": "f7f302ef-2e16-4ed1-8421-88302adcb740",
   "metadata": {},
   "source": [
    "Assumes the XYZ file stores the geometry in Angstrom."
   ]
  },
  {
   "cell_type": "code",
   "execution_count": null,
   "id": "c2145268-589f-4320-b7cc-df97acad3b9a",
   "metadata": {},
   "outputs": [],
   "source": [
    "from nbasis_analysis import *"
   ]
  },
  {
   "cell_type": "markdown",
   "id": "61cbded7-4b53-4823-bce4-420e4f6fa92f",
   "metadata": {},
   "source": [
    "## Single Molecule: Calculate the number of basis functions"
   ]
  },
  {
   "cell_type": "code",
   "execution_count": null,
   "id": "2be40d1f-ac58-4f68-996d-cdccd03f38d8",
   "metadata": {},
   "outputs": [],
   "source": [
    "## Just want to know how many basis functions? ##\n",
    "\n",
    "# molecule\n",
    "ff = \"benzene.xyz\"\n",
    "\n",
    "# Specify the basis set\n",
    "basis = 'def2-tzvp'\n",
    "\n",
    "elements_numbers, elements_symbols = get_elements_from_xyz_file(ff)\n",
    "\n",
    "# Retrieve the basis set for the elements\n",
    "basis_set_bse = bse.get_basis(basis, elements=elements_numbers)\n",
    "\n",
    "nbasis = calculate_nbasis(elements_numbers,basis_set_bse)\n",
    "print(f\"Number of basis functions: {nbasis}\")"
   ]
  },
  {
   "cell_type": "markdown",
   "id": "f2525355-498b-40c2-ad81-e33720d5944e",
   "metadata": {},
   "source": [
    "## Set of Geometries: collate data of basis and atom types"
   ]
  },
  {
   "cell_type": "code",
   "execution_count": null,
   "id": "231e4e0a-7ae5-41a7-9574-787d1aedc1d5",
   "metadata": {},
   "outputs": [],
   "source": [
    "def create_default_mol_dict():\n",
    "    output_dict = {\n",
    "        #\"geom_file\": \"\",\n",
    "        \"molecule\": [],\n",
    "        \"unique_atoms\": [],\n",
    "        \"molecule_num\": [],\n",
    "        \"unique_atoms_num\": [],\n",
    "        \"NAtoms\": 0,\n",
    "        \"NAtomTypes\": 0,\n",
    "        \"heaviest_element\": 0,\n",
    "        \"transition_metal_present\": False,\n",
    "        \"lanthanide_present\": False,\n",
    "        \"actinide_present\": False,\n",
    "        \"Basis\": '',\n",
    "        \"NBasis\": 0,\n",
    "        \"highest_angular_momentum\": '',\n",
    "        \"ECP\": False\n",
    "    }\n",
    "    return output_dict"
   ]
  },
  {
   "cell_type": "code",
   "execution_count": null,
   "id": "56ff40db-5f9e-4836-94e5-22c8a143d686",
   "metadata": {},
   "outputs": [],
   "source": [
    "import glob\n",
    "\n",
    "# Where are the molecules?\n",
    "geomFileList = glob.glob(\"*.xyz\") \n",
    "\n",
    "# Specify the basis set being used\n",
    "basis = 'def2-tzvp'\n",
    "\n",
    "output_dict = {}\n",
    "icount = 0\n",
    "molecule_dicts = {}\n",
    "\n",
    "# Loop over all geometry files:\n",
    "for g in geomFileList:\n",
    "    p = create_default_mol_dict()\n",
    "\n",
    "    # get the elements from the Geometry file: return Atomic Numbers and Symbols\n",
    "    elements_numbers, elements_symbols = get_elements_from_xyz_file(g)\n",
    "    p[\"molecule\"] = elements_symbols\n",
    "    p[\"molecule_num\"] = elements_numbers\n",
    "    \n",
    "    # get NAtoms from length (could check symbols and num length are the same!)\n",
    "    p[\"NAtoms\"] = len(p[\"molecule\"])\n",
    "    p['unique_atoms'] = set(p[\"molecule\"])\n",
    "    p['unique_atoms_num'] = set(p[\"molecule_num\"])\n",
    "    \n",
    "    # Number of atom types\n",
    "    p[\"NAtomTypes\"] = len(p['unique_atoms_num'])\n",
    "    p[\"heaviest_element\"] = max(p['unique_atoms_num'])\n",
    "    \n",
    "    # Check for Transition Metals/Lanthanides/Actinides\n",
    "    p[\"transition_metal_present\"] = contains_transition_metal(elements_numbers)\n",
    "    p[\"lanthanide_present\"] = contains_lanthanide(elements_numbers)\n",
    "    p[\"actinide_present\"] = contains_actinide(elements_numbers)\n",
    "    \n",
    "    # Basis Set Info: \n",
    "    # Get the basis set for the elements\n",
    "    basis_set_bse = bse.get_basis(basis, elements=elements_numbers)\n",
    "    # Get total number of basis functions for the molecule\n",
    "    p[\"NBasis\"] = calculate_nbasis(elements_numbers,basis_set_bse)\n",
    "    p[\"Basis\"] = basis\n",
    "    # Find the highest angular momentum basis function used for this molecule\n",
    "    p[\"highest_angular_momentum\"] = find_atom_highest_ang_mom(basis, p[\"heaviest_element\"])\n",
    "    # Does this molecule use ECP?\n",
    "    if(uses_ecp(basis,p[\"heaviest_element\"]) == True):\n",
    "        p[\"ECP\"] = True\n",
    "    \n",
    "    # add to the list of dicts\n",
    "    molecule_dicts[g] = p\n",
    "\n",
    "    "
   ]
  },
  {
   "cell_type": "code",
   "execution_count": null,
   "id": "19e6cecb-af19-42c3-a441-dec21db3c774",
   "metadata": {},
   "outputs": [],
   "source": [
    "# Check the result\n",
    "print(molecule_dicts['benzene.xyz']['NBasis'])"
   ]
  },
  {
   "cell_type": "code",
   "execution_count": null,
   "id": "2e649969-f99e-452c-9100-7ee20af54858",
   "metadata": {},
   "outputs": [],
   "source": [
    "# Print whole set (if you have multiple geometries)\n",
    "molecule_dicts"
   ]
  },
  {
   "cell_type": "code",
   "execution_count": null,
   "id": "ac7d0676-f3c6-49d8-a986-8038e695a520",
   "metadata": {},
   "outputs": [],
   "source": []
  }
 ],
 "metadata": {
  "kernelspec": {
   "display_name": "Python [conda env:.conda-nbasis]",
   "language": "python",
   "name": "conda-env-.conda-nbasis-py"
  },
  "language_info": {
   "codemirror_mode": {
    "name": "ipython",
    "version": 3
   },
   "file_extension": ".py",
   "mimetype": "text/x-python",
   "name": "python",
   "nbconvert_exporter": "python",
   "pygments_lexer": "ipython3",
   "version": "3.10.14"
  }
 },
 "nbformat": 4,
 "nbformat_minor": 5
}
